{
  "nbformat": 4,
  "nbformat_minor": 0,
  "metadata": {
    "colab": {
      "provenance": [],
      "authorship_tag": "ABX9TyOCph/32EVKQ6BFlhMnF4Of",
      "include_colab_link": true
    },
    "kernelspec": {
      "name": "python3",
      "display_name": "Python 3"
    },
    "language_info": {
      "name": "python"
    }
  },
  "cells": [
    {
      "cell_type": "markdown",
      "metadata": {
        "id": "view-in-github",
        "colab_type": "text"
      },
      "source": [
        "<a href=\"https://colab.research.google.com/github/fabiaalves/conversor-planner-bahia/blob/main/Mapeamento_de_colunas.ipynb\" target=\"_parent\"><img src=\"https://colab.research.google.com/assets/colab-badge.svg\" alt=\"Open In Colab\"/></a>"
      ]
    },
    {
      "cell_type": "code",
      "execution_count": null,
      "metadata": {
        "id": "2FNjZSsvhBL_"
      },
      "outputs": [],
      "source": [
        "Coluna do Planner (origem);Coluna na nova planilha (destino);Transformação / Regra especial;Formato esperado\n",
        "-;Nº;-;Número\n",
        "-;COMPONENTE;-;Texto\n",
        "-;SUBCOMPONENTE;-;Texto\n",
        "Nome do Bucket;PRODUTO;-;Texto\n",
        "Nome da tarefa;Ação;-;Texto\n",
        "-;Responsabilidade;-;Texto\n",
        "Atribuído a;Atribuído a;-;Texto\n",
        "É Recorrente;A ação é recorrente;-;Texto\n",
        "Progresso;Progresso;-;Texto\n",
        "-;data/período planejado;\"Concatenar separando com travessão os conteúdos correspondentes das colunas \"\"Data de início\"\" e \"\"Data de conclusão\"\"\";Data (dd/mm/yyyy)\n",
        "Concluído em;Concluído em;-;Data (dd/mm/yyyy)\n",
        "Concluída por;Concluída por;-;Texto\n",
        "Prioridade;Prioridade;-;Texto\n",
        "Itens da lista de verificação;Itens da lista de verificação;-;Texto\n",
        "Itens concluídos da lista de verificação;Itens concluídos da lista de verificação;-;Texto\n",
        "Descrição;Observação;-;Texto\n"
      ]
    }
  ]
}