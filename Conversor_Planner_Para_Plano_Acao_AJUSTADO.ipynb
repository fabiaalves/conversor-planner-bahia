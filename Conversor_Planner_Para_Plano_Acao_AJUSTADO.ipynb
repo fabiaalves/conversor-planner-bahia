
# Conversor Planner – Projeto Bahia que Produz e Alimenta
# (Notebook ajustado para ler o arquivo de mapeamento direto do repositório)

import pandas as pd
import ipywidgets as widgets
from IPython.display import display
import datetime

# Função principal de conversão
def converter_arquivo(file_content):
    # Ler a planilha do Planner
    df = pd.read_excel(file_content)

    # Ler o arquivo de mapeamento (que deve estar no mesmo repositório)
    df_map = pd.read_excel('Mapeamento_Colunas.xlsx')

    # Criar DataFrame final com base no mapeamento
    df_final = pd.DataFrame()
    for _, row in df_map.iterrows():
        col_planner = row['Coluna_Planner']
        col_final = row['Coluna_Final']
        if col_planner in df.columns:
            df_final[col_final] = df[col_planner]
        else:
            df_final[col_final] = None

    # Nome do arquivo final com data
    hoje = datetime.datetime.now().strftime("%d-%m-%Y")
    nome_arquivo = f"PLANO DE AÇÃO - PROJETO BAHIA QUE PRODUZ E ALIMENTA_{hoje}.xlsx"

    # Salvar
    df_final.to_excel(nome_arquivo, index=False)
    return nome_arquivo

# Widgets de upload e botão
upload = widgets.FileUpload(accept='.xlsx', multiple=False)
btn_converter = widgets.Button(description="Converter para Plano de Ação", button_style='success')
output = widgets.Output()

def on_button_click(b):
    with output:
        output.clear_output()
        if upload.value:
            for name, file_info in upload.value.items():
                content = file_info['content']
                nome_arquivo = converter_arquivo(pd.io.common.BytesIO(content))
                print(f"Conversão concluída! Arquivo gerado: {nome_arquivo}")
        else:
            print("Por favor, faça o upload de um arquivo do Planner.")

btn_converter.on_click(on_button_click)

# Exibir interface
display(widgets.HTML("<h2>Conversor Planner – Projeto Bahia que Produz e Alimenta</h2><p>1. Faça upload do arquivo do Planner.<br>2. Clique em 'Converter para Plano de Ação'.<br>3. Baixe o arquivo gerado.</p>"))
display(upload, btn_converter, output)
